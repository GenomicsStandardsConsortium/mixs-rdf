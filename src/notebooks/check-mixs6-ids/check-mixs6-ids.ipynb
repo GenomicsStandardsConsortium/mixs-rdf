{
 "cells": [
  {
   "cell_type": "markdown",
   "metadata": {},
   "source": [
    "# Check MIxS 6 IDs\n",
    "### The purpose of this notebook is to check for mismatches between the unique ids of mixs terms found in the mixs core and packages.\n",
    "### This is done by comparing the core term ids to the package term ids. So, far all ids are fine.\n",
    "#### Note: There are only 3 core terms that appear as package terms:\n",
    "- alt (MIXS:0000094)\n",
    "- depth (MIXS:0000018)\n",
    "- elev (MIXS:0000093)"
   ]
  },
  {
   "cell_type": "code",
   "execution_count": 3,
   "metadata": {},
   "outputs": [],
   "source": [
    "import os, sys\n",
    "sys.path.append(os.path.abspath('../../mixs_data/')) # add path to mixs 6 spreadsheet "
   ]
  },
  {
   "cell_type": "code",
   "execution_count": 50,
   "metadata": {},
   "outputs": [],
   "source": [
    "import pandas as pds\n",
    "from pandasql import sqldf"
   ]
  },
  {
   "cell_type": "markdown",
   "metadata": {},
   "source": [
    "### Read in all data from MIxS 6 term updates.xlsx"
   ]
  },
  {
   "cell_type": "code",
   "execution_count": 14,
   "metadata": {},
   "outputs": [
    {
     "data": {
      "text/plain": [
       "['MIxS5 - do not edit',\n",
       " 'MIxS5 packages - do not edit',\n",
       " 'MIxS6 Core- to edit',\n",
       " 'Checklists-Core (non-MIxS)',\n",
       " 'MIxS6 packages - to edit',\n",
       " 'NewChecklists_MIxS6']"
      ]
     },
     "execution_count": 14,
     "metadata": {},
     "output_type": "execute_result"
    }
   ],
   "source": [
    "xls = pds.ExcelFile('../../mixs_data/MIxS 6 term updates.xlsx')\n",
    "xls.sheet_names # list sheet names"
   ]
  },
  {
   "cell_type": "markdown",
   "metadata": {},
   "source": [
    "## Create dataframs for of core and package terms"
   ]
  },
  {
   "cell_type": "code",
   "execution_count": 16,
   "metadata": {},
   "outputs": [],
   "source": [
    "coreDf = pds.read_excel(xls, 'MIxS6 Core- to edit')"
   ]
  },
  {
   "cell_type": "code",
   "execution_count": 38,
   "metadata": {},
   "outputs": [],
   "source": [
    "packageDf = pds.read_excel(xls, 'MIxS6 packages - to edit')"
   ]
  },
  {
   "cell_type": "markdown",
   "metadata": {},
   "source": [
    "### Message headers in standardized form\n",
    "- lowercase names\n",
    "- remove surrounding spaces\n",
    "- replace innerspaces with underscores"
   ]
  },
  {
   "cell_type": "code",
   "execution_count": 40,
   "metadata": {},
   "outputs": [],
   "source": [
    "coreDf.columns = [x.lower().strip().replace(' ', '_') for x in list(coreDf.columns)]\n",
    "packageDf.columns = [x.lower().strip().replace(' ', '_') for x in list(packageDf.columns)]"
   ]
  },
  {
   "cell_type": "markdown",
   "metadata": {},
   "source": [
    "## Subset dataframes to names and ids"
   ]
  },
  {
   "cell_type": "code",
   "execution_count": 48,
   "metadata": {},
   "outputs": [],
   "source": [
    "coreDf = coreDf[['structured_comment_name', 'unique_mixs_id']]\n",
    "packageDf = packageDf[['structured_comment_name', 'unique_mixs_id']].drop_duplicates()"
   ]
  },
  {
   "cell_type": "code",
   "execution_count": 49,
   "metadata": {},
   "outputs": [
    {
     "data": {
      "text/html": [
       "<div>\n",
       "<style scoped>\n",
       "    .dataframe tbody tr th:only-of-type {\n",
       "        vertical-align: middle;\n",
       "    }\n",
       "\n",
       "    .dataframe tbody tr th {\n",
       "        vertical-align: top;\n",
       "    }\n",
       "\n",
       "    .dataframe thead th {\n",
       "        text-align: right;\n",
       "    }\n",
       "</style>\n",
       "<table border=\"1\" class=\"dataframe\">\n",
       "  <thead>\n",
       "    <tr style=\"text-align: right;\">\n",
       "      <th></th>\n",
       "      <th>structured_comment_name</th>\n",
       "      <th>unique_mixs_id</th>\n",
       "    </tr>\n",
       "  </thead>\n",
       "  <tbody>\n",
       "    <tr>\n",
       "      <th>0</th>\n",
       "      <td>alt</td>\n",
       "      <td>MIXS:0000094</td>\n",
       "    </tr>\n",
       "    <tr>\n",
       "      <th>1</th>\n",
       "      <td>elev</td>\n",
       "      <td>MIXS:0000093</td>\n",
       "    </tr>\n",
       "    <tr>\n",
       "      <th>2</th>\n",
       "      <td>barometric_press</td>\n",
       "      <td>MIXS:0000096</td>\n",
       "    </tr>\n",
       "    <tr>\n",
       "      <th>3</th>\n",
       "      <td>carb_dioxide</td>\n",
       "      <td>MIXS:0000097</td>\n",
       "    </tr>\n",
       "    <tr>\n",
       "      <th>4</th>\n",
       "      <td>carb_monoxide</td>\n",
       "      <td>MIXS:0000098</td>\n",
       "    </tr>\n",
       "  </tbody>\n",
       "</table>\n",
       "</div>"
      ],
      "text/plain": [
       "  structured_comment_name unique_mixs_id\n",
       "0                     alt   MIXS:0000094\n",
       "1                    elev   MIXS:0000093\n",
       "2        barometric_press   MIXS:0000096\n",
       "3            carb_dioxide   MIXS:0000097\n",
       "4           carb_monoxide   MIXS:0000098"
      ]
     },
     "execution_count": 49,
     "metadata": {},
     "output_type": "execute_result"
    }
   ],
   "source": [
    "packageDf.head()"
   ]
  },
  {
   "cell_type": "markdown",
   "metadata": {},
   "source": [
    "## Query dataframes for mismatches\n",
    "- peform a left join on the core and package terms; there should be no duplicates (i.e., count > 1)\n",
    "- peform a left join on the package and core terms (opposite from above); there should be no duplicates (i.e., count > 1)"
   ]
  },
  {
   "cell_type": "code",
   "execution_count": 65,
   "metadata": {},
   "outputs": [],
   "source": [
    "q1 = \"\"\"\n",
    "select \n",
    "    coreDf.structured_comment_name, coreDf.unique_mixs_id, count(*)\n",
    "from \n",
    "    coreDf\n",
    "left join\n",
    "    packageDf\n",
    "on\n",
    "    coreDf.structured_comment_name = packageDf.structured_comment_name\n",
    "group by\n",
    "    coreDf.structured_comment_name, coreDf.unique_mixs_id\n",
    "having \n",
    " count(*) > 1\n",
    "\"\"\""
   ]
  },
  {
   "cell_type": "code",
   "execution_count": 66,
   "metadata": {},
   "outputs": [
    {
     "data": {
      "text/html": [
       "<div>\n",
       "<style scoped>\n",
       "    .dataframe tbody tr th:only-of-type {\n",
       "        vertical-align: middle;\n",
       "    }\n",
       "\n",
       "    .dataframe tbody tr th {\n",
       "        vertical-align: top;\n",
       "    }\n",
       "\n",
       "    .dataframe thead th {\n",
       "        text-align: right;\n",
       "    }\n",
       "</style>\n",
       "<table border=\"1\" class=\"dataframe\">\n",
       "  <thead>\n",
       "    <tr style=\"text-align: right;\">\n",
       "      <th></th>\n",
       "      <th>structured_comment_name</th>\n",
       "      <th>unique_mixs_id</th>\n",
       "      <th>count(*)</th>\n",
       "    </tr>\n",
       "  </thead>\n",
       "  <tbody>\n",
       "  </tbody>\n",
       "</table>\n",
       "</div>"
      ],
      "text/plain": [
       "Empty DataFrame\n",
       "Columns: [structured_comment_name, unique_mixs_id, count(*)]\n",
       "Index: []"
      ]
     },
     "execution_count": 66,
     "metadata": {},
     "output_type": "execute_result"
    }
   ],
   "source": [
    "sqldf(q1)"
   ]
  },
  {
   "cell_type": "code",
   "execution_count": 67,
   "metadata": {},
   "outputs": [],
   "source": [
    "q2 = \"\"\"\n",
    "select \n",
    "    packageDf.structured_comment_name, packageDf.unique_mixs_id, count(*)\n",
    "from \n",
    "    packageDf\n",
    "left join\n",
    "    coreDf\n",
    "on\n",
    "    packageDf.structured_comment_name = coreDf.structured_comment_name\n",
    "group by\n",
    "    packageDf.structured_comment_name, packageDf.unique_mixs_id\n",
    "having \n",
    " count(*) > 1\n",
    "\"\"\""
   ]
  },
  {
   "cell_type": "code",
   "execution_count": 68,
   "metadata": {},
   "outputs": [
    {
     "data": {
      "text/html": [
       "<div>\n",
       "<style scoped>\n",
       "    .dataframe tbody tr th:only-of-type {\n",
       "        vertical-align: middle;\n",
       "    }\n",
       "\n",
       "    .dataframe tbody tr th {\n",
       "        vertical-align: top;\n",
       "    }\n",
       "\n",
       "    .dataframe thead th {\n",
       "        text-align: right;\n",
       "    }\n",
       "</style>\n",
       "<table border=\"1\" class=\"dataframe\">\n",
       "  <thead>\n",
       "    <tr style=\"text-align: right;\">\n",
       "      <th></th>\n",
       "      <th>structured_comment_name</th>\n",
       "      <th>unique_mixs_id</th>\n",
       "      <th>count(*)</th>\n",
       "    </tr>\n",
       "  </thead>\n",
       "  <tbody>\n",
       "  </tbody>\n",
       "</table>\n",
       "</div>"
      ],
      "text/plain": [
       "Empty DataFrame\n",
       "Columns: [structured_comment_name, unique_mixs_id, count(*)]\n",
       "Index: []"
      ]
     },
     "execution_count": 68,
     "metadata": {},
     "output_type": "execute_result"
    }
   ],
   "source": [
    "sqldf(q2)"
   ]
  },
  {
   "cell_type": "markdown",
   "metadata": {},
   "source": [
    "## Check length of each dataframe"
   ]
  },
  {
   "cell_type": "code",
   "execution_count": 69,
   "metadata": {},
   "outputs": [
    {
     "data": {
      "text/plain": [
       "95"
      ]
     },
     "execution_count": 69,
     "metadata": {},
     "output_type": "execute_result"
    }
   ],
   "source": [
    "len(coreDf)"
   ]
  },
  {
   "cell_type": "code",
   "execution_count": 70,
   "metadata": {},
   "outputs": [
    {
     "data": {
      "text/plain": [
       "509"
      ]
     },
     "execution_count": 70,
     "metadata": {},
     "output_type": "execute_result"
    }
   ],
   "source": [
    "len(packageDf)"
   ]
  },
  {
   "cell_type": "markdown",
   "metadata": {},
   "source": [
    "### Find core terms that are not package terms"
   ]
  },
  {
   "cell_type": "code",
   "execution_count": 76,
   "metadata": {},
   "outputs": [],
   "source": [
    "q3 = \"\"\"\n",
    "select \n",
    "    coreDf.structured_comment_name, coreDf.unique_mixs_id\n",
    "from \n",
    "    coreDf\n",
    "where \n",
    "    coreDf.structured_comment_name not in (select packageDf.structured_comment_name from packageDf)\n",
    "order by\n",
    "    coreDf.structured_comment_name\n",
    "\"\"\""
   ]
  },
  {
   "cell_type": "code",
   "execution_count": 77,
   "metadata": {},
   "outputs": [
    {
     "data": {
      "text/plain": [
       "92"
      ]
     },
     "execution_count": 77,
     "metadata": {},
     "output_type": "execute_result"
    }
   ],
   "source": [
    "len(sqldf(q3))"
   ]
  },
  {
   "cell_type": "markdown",
   "metadata": {},
   "source": [
    "### Find package terms that are not core terms"
   ]
  },
  {
   "cell_type": "code",
   "execution_count": 78,
   "metadata": {},
   "outputs": [],
   "source": [
    "q4 = \"\"\"\n",
    "select \n",
    "    packageDf.structured_comment_name, packageDf.unique_mixs_id\n",
    "from \n",
    "    packageDf\n",
    "where \n",
    "    packageDf.structured_comment_name not in (select coreDf.structured_comment_name from coreDf)\n",
    "order by\n",
    "    packageDf.structured_comment_name\n",
    "\"\"\""
   ]
  },
  {
   "cell_type": "code",
   "execution_count": 79,
   "metadata": {},
   "outputs": [
    {
     "data": {
      "text/plain": [
       "506"
      ]
     },
     "execution_count": 79,
     "metadata": {},
     "output_type": "execute_result"
    }
   ],
   "source": [
    "len(sqldf(q4))"
   ]
  },
  {
   "cell_type": "markdown",
   "metadata": {},
   "source": [
    "## Find terms are both core and package terms"
   ]
  },
  {
   "cell_type": "code",
   "execution_count": 80,
   "metadata": {},
   "outputs": [],
   "source": [
    "q5 = \"\"\"\n",
    "select \n",
    "    coreDf.structured_comment_name, coreDf.unique_mixs_id\n",
    "from \n",
    "    coreDf\n",
    "where \n",
    "    coreDf.structured_comment_name IN (select packageDf.structured_comment_name from packageDf)\n",
    "order by\n",
    "    coreDf.structured_comment_name\n",
    "\"\"\""
   ]
  },
  {
   "cell_type": "code",
   "execution_count": 81,
   "metadata": {},
   "outputs": [
    {
     "data": {
      "text/html": [
       "<div>\n",
       "<style scoped>\n",
       "    .dataframe tbody tr th:only-of-type {\n",
       "        vertical-align: middle;\n",
       "    }\n",
       "\n",
       "    .dataframe tbody tr th {\n",
       "        vertical-align: top;\n",
       "    }\n",
       "\n",
       "    .dataframe thead th {\n",
       "        text-align: right;\n",
       "    }\n",
       "</style>\n",
       "<table border=\"1\" class=\"dataframe\">\n",
       "  <thead>\n",
       "    <tr style=\"text-align: right;\">\n",
       "      <th></th>\n",
       "      <th>structured_comment_name</th>\n",
       "      <th>unique_mixs_id</th>\n",
       "    </tr>\n",
       "  </thead>\n",
       "  <tbody>\n",
       "    <tr>\n",
       "      <th>0</th>\n",
       "      <td>alt</td>\n",
       "      <td>MIXS:0000094</td>\n",
       "    </tr>\n",
       "    <tr>\n",
       "      <th>1</th>\n",
       "      <td>depth</td>\n",
       "      <td>MIXS:0000018</td>\n",
       "    </tr>\n",
       "    <tr>\n",
       "      <th>2</th>\n",
       "      <td>elev</td>\n",
       "      <td>MIXS:0000093</td>\n",
       "    </tr>\n",
       "  </tbody>\n",
       "</table>\n",
       "</div>"
      ],
      "text/plain": [
       "  structured_comment_name unique_mixs_id\n",
       "0                     alt   MIXS:0000094\n",
       "1                   depth   MIXS:0000018\n",
       "2                    elev   MIXS:0000093"
      ]
     },
     "execution_count": 81,
     "metadata": {},
     "output_type": "execute_result"
    }
   ],
   "source": [
    "sqldf(q5)"
   ]
  },
  {
   "cell_type": "code",
   "execution_count": null,
   "metadata": {},
   "outputs": [],
   "source": []
  }
 ],
 "metadata": {
  "kernelspec": {
   "display_name": "Python 3",
   "language": "python",
   "name": "python3"
  },
  "language_info": {
   "codemirror_mode": {
    "name": "ipython",
    "version": 3
   },
   "file_extension": ".py",
   "mimetype": "text/x-python",
   "name": "python",
   "nbconvert_exporter": "python",
   "pygments_lexer": "ipython3",
   "version": "3.7.4"
  }
 },
 "nbformat": 4,
 "nbformat_minor": 4
}
