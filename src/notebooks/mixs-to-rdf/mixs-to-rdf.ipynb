{
 "cells": [
  {
   "cell_type": "code",
   "execution_count": null,
   "metadata": {},
   "outputs": [],
   "source": [
    "import os, sys; sys.path.append(os.path.abspath('../../code/rdf_etl')) # add rdf_etl module to sys path"
   ]
  },
  {
   "cell_type": "code",
   "execution_count": 2,
   "metadata": {},
   "outputs": [],
   "source": [
    "from mixs_to_rdf_classes import mixs_package_file_to_rdf\n",
    "from rdflib import Graph"
   ]
  },
  {
   "cell_type": "code",
   "execution_count": 3,
   "metadata": {},
   "outputs": [
    {
     "name": "stdout",
     "output_type": "stream",
     "text": [
      "Help on function mixs_package_file_to_rdf in module mixs_to_rdf_classes:\n",
      "\n",
      "mixs_package_file_to_rdf(file_name, mixs_version, package_name='', term_type='class', file_type='excel', sep='\\t', base_iri='https://gensc.org/mixs#', ontology_iri='https://gensc.org/mixs.owl', output_file='', ontology_format='turtle', print_output=False)\n",
      "    Builds an ontology (rdflib graph) from a MIxS package file.\n",
      "    \n",
      "    Args:\n",
      "        file_name: The name of MIxS package file.\n",
      "        mixs_version: The version of MIxS package.\n",
      "        package_name: Overrides the package name provided in the package Excel spreadsheet.\n",
      "                      This argument if necessary when using a file is a csv or tsv.\n",
      "        term_type: Specifies if the MIxS terms will be represented as classes or data properties.\n",
      "                   Accepted values: 'class', 'data property'\n",
      "                   Default: 'class'\n",
      "        file_type: The type of file being processed. \n",
      "                   If file type is not 'excel', a field separator/delimitor must be provided.\n",
      "                   Default: 'excel'\n",
      "        sep: Specifies the field separator/delimitor for non-Excel files.\n",
      "        base_iri: The IRI used as prefix for MIxS terms.\n",
      "        ontology_iri: The IRI used for the output ontology.\n",
      "        output_file: The file used to save the output. \n",
      "                     If saving to different directory, include the path (e.g., '../output/mixs.ttl').\n",
      "        ontology_format: The rdf syntax of the output ontology.\n",
      "                   Accepted values: 'turtle', 'ttl', 'nt', 'ntriples', 'trix', 'json-ld', 'xml'\n",
      "                   Default: 'turtle'\n",
      "        print_output: Specifies whether to print ontology on screen.\n",
      "                      Default: False\n",
      "    Returns:\n",
      "      rdflib Graph\n",
      "\n"
     ]
    }
   ],
   "source": [
    "help(mixs_package_file_to_rdf)"
   ]
  },
  {
   "cell_type": "code",
   "execution_count": 4,
   "metadata": {},
   "outputs": [],
   "source": [
    "test_file = \"../../mixs_data/mixs_v5_packages/MIxSair_20180621.xlsx\""
   ]
  },
  {
   "cell_type": "code",
   "execution_count": 5,
   "metadata": {},
   "outputs": [],
   "source": [
    "graph_cls = mixs_package_file_to_rdf(test_file, 5, output_file='test_classes.ttl')"
   ]
  },
  {
   "cell_type": "code",
   "execution_count": 6,
   "metadata": {},
   "outputs": [],
   "source": [
    "graph_dp = mixs_package_file_to_rdf (test_file, 5, term_type='data property', output_file='test_dataproperties.ttl')"
   ]
  },
  {
   "cell_type": "code",
   "execution_count": 7,
   "metadata": {},
   "outputs": [],
   "source": [
    "# print(graph_cls.serialize(format='turtle').decode('utf-8'))"
   ]
  },
  {
   "cell_type": "code",
   "execution_count": 8,
   "metadata": {},
   "outputs": [],
   "source": [
    "# print(graph_dp.serialize(format='turtle').decode('utf-8'))"
   ]
  },
  {
   "cell_type": "code",
   "execution_count": 9,
   "metadata": {},
   "outputs": [
    {
     "data": {
      "text/plain": [
       "['../../mixs_data/mixs_v5_packages/MIxSair_20180621.xlsx',\n",
       " '../../mixs_data/mixs_v5_packages/MIxSbuiltenv_20180621.xlsx',\n",
       " '../../mixs_data/mixs_v5_packages/MIxShostassoc_20180621.xlsx',\n",
       " '../../mixs_data/mixs_v5_packages/MIxShumanassoc_20180621.xlsx',\n",
       " '../../mixs_data/mixs_v5_packages/MIxShumangut_20180621.xlsx',\n",
       " '../../mixs_data/mixs_v5_packages/MIxShumanoral_20180621.xlsx',\n",
       " '../../mixs_data/mixs_v5_packages/MIxShumanskin_20180621.xlsx',\n",
       " '../../mixs_data/mixs_v5_packages/MIxShumanvaginal_20180621.xlsx',\n",
       " '../../mixs_data/mixs_v5_packages/MIxShydrocarbcores_20180621.xlsx',\n",
       " '../../mixs_data/mixs_v5_packages/MIxShydrocarbfs_20180621.xlsx',\n",
       " '../../mixs_data/mixs_v5_packages/MIxSmatbiofilm_20180621.xlsx',\n",
       " '../../mixs_data/mixs_v5_packages/MIxSmisc_20180621.xlsx',\n",
       " '../../mixs_data/mixs_v5_packages/MIxSplantassoc_20180621.xlsx',\n",
       " '../../mixs_data/mixs_v5_packages/MIxSsediment_20180621.xlsx',\n",
       " '../../mixs_data/mixs_v5_packages/MIxSsoil_20180621.xlsx',\n",
       " '../../mixs_data/mixs_v5_packages/MIxSwastesludge_20180621.xlsx',\n",
       " '../../mixs_data/mixs_v5_packages/MIxSwater_20180621.xlsx']"
      ]
     },
     "execution_count": 9,
     "metadata": {},
     "output_type": "execute_result"
    }
   ],
   "source": [
    "file_names = !ls ../../mixs_data/mixs_v5_packages/MIxS*.xlsx\n",
    "file_names"
   ]
  },
  {
   "cell_type": "code",
   "execution_count": 10,
   "metadata": {},
   "outputs": [],
   "source": [
    "mixs_rdf = Graph()"
   ]
  },
  {
   "cell_type": "code",
   "execution_count": 11,
   "metadata": {},
   "outputs": [],
   "source": [
    "for file_name in file_names:\n",
    "    mixs_rdf += mixs_package_file_to_rdf(file_name, 5)"
   ]
  },
  {
   "cell_type": "code",
   "execution_count": 12,
   "metadata": {},
   "outputs": [],
   "source": [
    "mixs_rdf.serialize(destination='mixs_v5.ttl', format='turtle')"
   ]
  },
  {
   "cell_type": "code",
   "execution_count": null,
   "metadata": {},
   "outputs": [],
   "source": []
  }
 ],
 "metadata": {
  "kernelspec": {
   "display_name": "Python 3",
   "language": "python",
   "name": "python3"
  },
  "language_info": {
   "codemirror_mode": {
    "name": "ipython",
    "version": 3
   },
   "file_extension": ".py",
   "mimetype": "text/x-python",
   "name": "python",
   "nbconvert_exporter": "python",
   "pygments_lexer": "ipython3",
   "version": "3.7.4"
  }
 },
 "nbformat": 4,
 "nbformat_minor": 4
}
