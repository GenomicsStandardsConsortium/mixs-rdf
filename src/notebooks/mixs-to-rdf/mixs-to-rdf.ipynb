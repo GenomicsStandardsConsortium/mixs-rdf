{
 "cells": [
  {
   "cell_type": "markdown",
   "metadata": {},
   "source": [
    "# MIxS to RDF\n",
    "### This notebook demonstrates how to use the mixs_to_rdf library to convert MIxS spreadsheets to RDF."
   ]
  },
  {
   "cell_type": "markdown",
   "metadata": {},
   "source": [
    "## Load mixs-to-rdf library\n",
    "* #### In order to find the library, you need to add the path to the system.  \n",
    "* #### rdflib is needed in order to work with output graphs"
   ]
  },
  {
   "cell_type": "code",
   "execution_count": null,
   "metadata": {},
   "outputs": [],
   "source": [
    "import os, sys\n",
    "sys.path.append(os.path.abspath('../../code/mixs_to_rdf/')) # add rdf_etl module to sys path"
   ]
  },
  {
   "cell_type": "code",
   "execution_count": 2,
   "metadata": {},
   "outputs": [],
   "source": [
    "from mixs_file_to_rdf import mixs_package_file_to_rdf, mixs_package_directory_to_rdf\n",
    "from rdflib import Graph"
   ]
  },
  {
   "cell_type": "markdown",
   "metadata": {},
   "source": [
    "## Review help information for mixs_package_file_to_rdf function."
   ]
  },
  {
   "cell_type": "code",
   "execution_count": 3,
   "metadata": {},
   "outputs": [
    {
     "name": "stdout",
     "output_type": "stream",
     "text": [
      "Help on function mixs_package_file_to_rdf in module mixs_file_to_rdf:\n",
      "\n",
      "mixs_package_file_to_rdf(file_name, mixs_version, package_name='', term_type='class', file_type='excel', sep='\\t', base_iri='https://gensc.org/mixs#', ontology_iri='https://gensc.org/mixs.owl', output_file='', ontology_format='turtle', print_output=False)\n",
      "    Builds an ontology (rdflib graph) from a MIxS package file.\n",
      "    \n",
      "    Args:\n",
      "        file_name: The name of MIxS package file.\n",
      "        mixs_version: The version of MIxS package.\n",
      "        package_name: Overrides the package name provided in the package Excel spreadsheet.\n",
      "                      This argument if necessary when using a file is a csv or tsv.\n",
      "        term_type: Specifies if the MIxS terms will be represented as classes or data properties.\n",
      "                   Accepted values: 'class', 'data property'\n",
      "                   Default: 'class'\n",
      "        file_type: The type of file being processed. \n",
      "                   If file type is not 'excel', a field separator/delimitor must be provided.\n",
      "                   Default: 'excel'\n",
      "        sep: Specifies the field separator/delimitor for non-Excel files.\n",
      "        base_iri: The IRI used as prefix for MIxS terms.\n",
      "        ontology_iri: The IRI used for the output ontology.\n",
      "        output_file: The file used to save the output. \n",
      "                     If saving to different directory, include the path (e.g., '../output/mixs.ttl').\n",
      "        ontology_format: The rdf syntax of the output ontology.\n",
      "                   Accepted values: 'turtle', 'ttl', 'nt', 'ntriples', 'trix', 'json-ld', 'xml'\n",
      "                   Default: 'turtle'\n",
      "        print_output: Specifies whether to print ontology on screen.\n",
      "                      Default: False\n",
      "    Returns:\n",
      "      rdflib Graph\n",
      "\n"
     ]
    }
   ],
   "source": [
    "help(mixs_package_file_to_rdf)"
   ]
  },
  {
   "cell_type": "markdown",
   "metadata": {},
   "source": [
    "## Test creating RDF versions of the MIxS-air, version 5, package.\n",
    "#### RDF files are output to the output directory.\n",
    "* #### test_classes.ttl will can MIxS terms converted to classes.\n",
    "* #### test_classes.ttl will can MIxS terms converted to data properties."
   ]
  },
  {
   "cell_type": "code",
   "execution_count": 4,
   "metadata": {},
   "outputs": [],
   "source": [
    "test_file = \"../../mixs_data/mixs_v5_packages/MIxSair_20180621.xlsx\""
   ]
  },
  {
   "cell_type": "code",
   "execution_count": 5,
   "metadata": {},
   "outputs": [],
   "source": [
    "graph_cls = mixs_package_file_to_rdf(test_file, 5, output_file='output/test_classes.ttl')"
   ]
  },
  {
   "cell_type": "code",
   "execution_count": 6,
   "metadata": {},
   "outputs": [],
   "source": [
    "graph_dp = mixs_package_file_to_rdf(test_file, 5, term_type='data property', output_file='output/test_dataproperties.ttl')"
   ]
  },
  {
   "cell_type": "markdown",
   "metadata": {},
   "source": [
    "## Test creating RDF versions of all MIxS package version 4 & 5 from a specified directories.\n",
    "#### RDF files are output to the output directory.\n",
    "* #### test_classes.ttl will can MIxS terms converted to classes.\n",
    "* #### test_classes.ttl will can MIxS terms converted to data properties."
   ]
  },
  {
   "cell_type": "markdown",
   "metadata": {},
   "source": [
    "## Review help information for mixs_package_directory_to_rdf function."
   ]
  },
  {
   "cell_type": "code",
   "execution_count": 7,
   "metadata": {},
   "outputs": [
    {
     "name": "stdout",
     "output_type": "stream",
     "text": [
      "Help on function mixs_package_directory_to_rdf in module mixs_file_to_rdf:\n",
      "\n",
      "mixs_package_directory_to_rdf(package_directory, mixs_version, term_type='class', file_name_start='M', file_type='excel', sep='\\t', base_iri='https://gensc.org/mixs#', ontology_iri='https://gensc.org/mixs.owl', output_file='', ontology_format='turtle', print_output=False)\n",
      "    Builds an ontology (rdflib graph) from each Excel file in the specified package diretory.\n",
      "    The graph retured is a union of each of the graphs builts from each file.\n",
      "    \n",
      "    Args:\n",
      "        package_directory: The directory containing the MIxS package files.\n",
      "        mixs_version: The version of MIxS package.\n",
      "        package_name: Overrides the package name provided in the package Excel spreadsheet.\n",
      "                      This argument if necessary when using a file is a csv or tsv.\n",
      "        term_type: Specifies if the MIxS terms will be represented as classes or data properties.\n",
      "                   Accepted values: 'class', 'data property'\n",
      "                   Default: 'class'\n",
      "        file_name_start: Specifies the letters the MIxS files should start with. The purpose is to avoid\n",
      "                         retrieving unwanted system files, such as .DS_Store.\n",
      "                         Default: 'M'\n",
      "        file_type: The type of file being processed. \n",
      "                   If file type is not 'excel', a field separator/delimitor must be provided.\n",
      "                   Default: 'excel'\n",
      "        sep: Specifies the field separator/delimitor for non-Excel files.\n",
      "        base_iri: The IRI used as prefix for MIxS terms.\n",
      "        ontology_iri: The IRI used for the output ontology.\n",
      "        output_file: The file used to save the output. \n",
      "                     If saving to different directory, include the path (e.g., '../output/mixs.ttl').\n",
      "        ontology_format: The rdf syntax of the output ontology.\n",
      "                         Accepted values: 'turtle', 'ttl', 'nt', 'ntriples', 'trix', 'json-ld', 'xml'\n",
      "                         Default: 'turtle'\n",
      "        print_output: Specifies whether to print ontology on screen.\n",
      "                      Default: False\n",
      "     Returns:\n",
      "      rdflib Graph\n",
      "\n"
     ]
    }
   ],
   "source": [
    "help(mixs_package_directory_to_rdf)"
   ]
  },
  {
   "cell_type": "code",
   "execution_count": 8,
   "metadata": {},
   "outputs": [],
   "source": [
    "version_4_dir = '../../mixs_data/mixs_v4_packages/'\n",
    "version_5_dir = '../../mixs_data/mixs_v5_packages/'"
   ]
  },
  {
   "cell_type": "markdown",
   "metadata": {},
   "source": [
    "#### First create version with terms as classes.\n",
    "**NB:** The base IRI is changes to `https://gensc.org/mixs-class#`"
   ]
  },
  {
   "cell_type": "code",
   "execution_count": 9,
   "metadata": {},
   "outputs": [
    {
     "name": "stdout",
     "output_type": "stream",
     "text": [
      "processing: MIxSwastesludge_210514.xls\n",
      "processing: MIxSplantassoc_210514.xls\n",
      "processing: MIxShumanvaginal_210514.xls\n",
      "processing: MIxSmisc_210514.xls\n",
      "processing: MIxSwater_210514.xls\n",
      "processing: MIxSbuiltenv_210514.xls\n",
      "processing: MIxSmatbiofilm_210514.xls\n",
      "processing: MIxShumanoral_210514.xls\n",
      "processing: MIxShumanassoc_210514.xls\n",
      "processing: MIxSsoil_210514.xls\n",
      "processing: MIxShumangut_210514.xls\n",
      "processing: MIxSsediment_210514.xls\n",
      "processing: MIxSair_210514.xls\n",
      "processing: MIxShostassoc_210514.xls\n",
      "processing: MIxShumanskin_210514.xls\n"
     ]
    }
   ],
   "source": [
    "mixs_4_package_class_graph = mixs_package_directory_to_rdf(version_4_dir, 4, base_iri=\"https://gensc.org/mixs-class#\")"
   ]
  },
  {
   "cell_type": "code",
   "execution_count": 10,
   "metadata": {},
   "outputs": [
    {
     "name": "stdout",
     "output_type": "stream",
     "text": [
      "processing: MIxShumanskin_20180621.xlsx\n",
      "processing: MIxSwater_20180621.xlsx\n",
      "processing: MIxShydrocarbcores_20180621.xlsx\n",
      "processing: MIxShumangut_20180621.xlsx\n",
      "processing: MIxSair_20180621.xlsx\n",
      "processing: MIxShumanoral_20180621.xlsx\n",
      "processing: MIxShydrocarbfs_20180621.xlsx\n",
      "processing: MIxSbuiltenv_20180621.xlsx\n",
      "processing: MIxShumanassoc_20180621.xlsx\n",
      "processing: MIxSsoil_20180621.xlsx\n",
      "processing: MIxSsediment_20180621.xlsx\n",
      "processing: MIxShostassoc_20180621.xlsx\n",
      "processing: MIxSwastesludge_20180621.xlsx\n",
      "processing: MIxShumanvaginal_20180621.xlsx\n",
      "processing: MIxSplantassoc_20180621.xlsx\n",
      "processing: MIxSmatbiofilm_20180621.xlsx\n",
      "processing: MIxSmisc_20180621.xlsx\n"
     ]
    }
   ],
   "source": [
    "mixs_5_package_class_graph = mixs_package_directory_to_rdf(version_5_dir, 5, base_iri=\"https://gensc.org/mixs-class#\")"
   ]
  },
  {
   "cell_type": "markdown",
   "metadata": {},
   "source": [
    "#### Merge MIxS 4 & 5 class graphs and save output"
   ]
  },
  {
   "cell_type": "code",
   "execution_count": 11,
   "metadata": {},
   "outputs": [],
   "source": [
    "mixs_package_class_graph = Graph()\n",
    "mixs_package_class_graph = mixs_4_package_class_graph + mixs_5_package_class_graph\n",
    "\n",
    "## save output\n",
    "mixs_package_class_graph.serialize(format='turtle', destination='output/mixs_package_class.ttl')"
   ]
  },
  {
   "cell_type": "markdown",
   "metadata": {},
   "source": [
    "#### Next create version with terms as data properties.\n",
    "**NB:** The base IRI is changes to `https://gensc.org/mixs-data-property#`"
   ]
  },
  {
   "cell_type": "code",
   "execution_count": 12,
   "metadata": {},
   "outputs": [
    {
     "name": "stdout",
     "output_type": "stream",
     "text": [
      "processing: MIxSwastesludge_210514.xls\n",
      "processing: MIxSplantassoc_210514.xls\n",
      "processing: MIxShumanvaginal_210514.xls\n",
      "processing: MIxSmisc_210514.xls\n",
      "processing: MIxSwater_210514.xls\n",
      "processing: MIxSbuiltenv_210514.xls\n",
      "processing: MIxSmatbiofilm_210514.xls\n",
      "processing: MIxShumanoral_210514.xls\n",
      "processing: MIxShumanassoc_210514.xls\n",
      "processing: MIxSsoil_210514.xls\n",
      "processing: MIxShumangut_210514.xls\n",
      "processing: MIxSsediment_210514.xls\n",
      "processing: MIxSair_210514.xls\n",
      "processing: MIxShostassoc_210514.xls\n",
      "processing: MIxShumanskin_210514.xls\n"
     ]
    }
   ],
   "source": [
    "mixs_4_package_dp_graph = mixs_package_directory_to_rdf(version_4_dir, 4, term_type='data property', base_iri=\"https://gensc.org/mixs-data-property#\")"
   ]
  },
  {
   "cell_type": "code",
   "execution_count": 13,
   "metadata": {},
   "outputs": [
    {
     "name": "stdout",
     "output_type": "stream",
     "text": [
      "processing: MIxShumanskin_20180621.xlsx\n",
      "processing: MIxSwater_20180621.xlsx\n",
      "processing: MIxShydrocarbcores_20180621.xlsx\n",
      "processing: MIxShumangut_20180621.xlsx\n",
      "processing: MIxSair_20180621.xlsx\n",
      "processing: MIxShumanoral_20180621.xlsx\n",
      "processing: MIxShydrocarbfs_20180621.xlsx\n",
      "processing: MIxSbuiltenv_20180621.xlsx\n",
      "processing: MIxShumanassoc_20180621.xlsx\n",
      "processing: MIxSsoil_20180621.xlsx\n",
      "processing: MIxSsediment_20180621.xlsx\n",
      "processing: MIxShostassoc_20180621.xlsx\n",
      "processing: MIxSwastesludge_20180621.xlsx\n",
      "processing: MIxShumanvaginal_20180621.xlsx\n",
      "processing: MIxSplantassoc_20180621.xlsx\n",
      "processing: MIxSmatbiofilm_20180621.xlsx\n",
      "processing: MIxSmisc_20180621.xlsx\n"
     ]
    }
   ],
   "source": [
    "mixs_5_package_dp_graph = mixs_package_directory_to_rdf(version_5_dir, 5, term_type='data property', base_iri=\"https://gensc.org/mixs-data-property#\")"
   ]
  },
  {
   "cell_type": "markdown",
   "metadata": {},
   "source": [
    "#### Merge MIxS 4 & 5 data property graphs and save output"
   ]
  },
  {
   "cell_type": "code",
   "execution_count": 14,
   "metadata": {},
   "outputs": [],
   "source": [
    "mixs_package_dp_graph = Graph()\n",
    "mixs_package_dp_graph = mixs_4_package_dp_graph + mixs_5_package_dp_graph\n",
    "\n",
    "## save output\n",
    "mixs_package_dp_graph.serialize(format='turtle', destination='output/mixs_package_dp.ttl')"
   ]
  },
  {
   "cell_type": "markdown",
   "metadata": {},
   "source": [
    "## Test SPARQL queries on ontologies\n",
    "#### As an example, I'll use the class version of MIxS terms.\n",
    "#### Note: rdflib is not the best libary for doing queries. It is SLOW. demonstration purposes it is fine."
   ]
  },
  {
   "cell_type": "markdown",
   "metadata": {},
   "source": [
    "### Find the first terms and labels"
   ]
  },
  {
   "cell_type": "code",
   "execution_count": 15,
   "metadata": {},
   "outputs": [],
   "source": [
    "query = \"\"\"\n",
    "prefix rdf: <http://www.w3.org/1999/02/22-rdf-syntax-ns#>\n",
    "prefix rdfs: <http://www.w3.org/2000/01/rdf-schema#>\n",
    "prefix mixs: <https://gensc.org/mixs-class#>\n",
    "\n",
    "select \n",
    "    ?iri ?label\n",
    "where {\n",
    "    ?iri rdfs:subClassOf mixs:mixs_term ;\n",
    "         rdfs:label ?label .\n",
    "}\n",
    "limit 5\n",
    "\"\"\""
   ]
  },
  {
   "cell_type": "code",
   "execution_count": 16,
   "metadata": {},
   "outputs": [],
   "source": [
    "results = mixs_package_class_graph.query(query)"
   ]
  },
  {
   "cell_type": "code",
   "execution_count": 17,
   "metadata": {},
   "outputs": [
    {
     "name": "stdout",
     "output_type": "stream",
     "text": [
      "https://gensc.org/mixs-class#part_org_nitro                   particulate organic nitrogen\n",
      "https://gensc.org/mixs-class#wall_area                        wall area\n",
      "https://gensc.org/mixs-class#root_med_carbon                  rooting medium carbon\n",
      "https://gensc.org/mixs-class#diether_lipids                   diether lipids\n",
      "https://gensc.org/mixs-class#lib_size                         library size\n"
     ]
    }
   ],
   "source": [
    "for r in results:\n",
    "    print(f\"\"\"{r.iri:60}  {r.label}\"\"\")"
   ]
  },
  {
   "cell_type": "markdown",
   "metadata": {},
   "source": [
    "### Find to number of terms in version 4 & 5 "
   ]
  },
  {
   "cell_type": "code",
   "execution_count": 18,
   "metadata": {},
   "outputs": [],
   "source": [
    "query = \"\"\"\n",
    "prefix rdf: <http://www.w3.org/1999/02/22-rdf-syntax-ns#>\n",
    "prefix rdfs: <http://www.w3.org/2000/01/rdf-schema#>\n",
    "prefix mixs: <https://gensc.org/mixs-class#>\n",
    "\n",
    "select\n",
    "    (count (?iri_v4) as ?num_v4) \n",
    "    (count (?iri_v5) as ?num_v5)\n",
    "where {\n",
    "    {\n",
    "        ?iri_v4 rdfs:subClassOf mixs:mixs_term ;\n",
    "                mixs:mixs_version ?version .\n",
    "        filter (?version = 4)\n",
    "    } union {\n",
    "        ?iri_v5 rdfs:subClassOf mixs:mixs_term ;\n",
    "                mixs:mixs_version ?version .\n",
    "        filter (?version = 5)\n",
    "    }\n",
    "}\n",
    "\"\"\""
   ]
  },
  {
   "cell_type": "code",
   "execution_count": 19,
   "metadata": {},
   "outputs": [],
   "source": [
    "results = mixs_package_class_graph.query(query)"
   ]
  },
  {
   "cell_type": "code",
   "execution_count": 20,
   "metadata": {},
   "outputs": [
    {
     "name": "stdout",
     "output_type": "stream",
     "text": [
      "\n",
      "        number of mixs 4 terms:  343\n",
      "        number of mixs 5 terms:  601\n",
      "    \n"
     ]
    }
   ],
   "source": [
    "for r in results:\n",
    "    print(f\"\"\"\n",
    "        number of mixs 4 terms:  {r.num_v4}\n",
    "        number of mixs 5 terms:  {r.num_v5}\n",
    "    \"\"\")"
   ]
  },
  {
   "cell_type": "markdown",
   "metadata": {},
   "source": [
    "### Find terms that are in both versions 4 & 5"
   ]
  },
  {
   "cell_type": "code",
   "execution_count": 21,
   "metadata": {},
   "outputs": [],
   "source": [
    "query = \"\"\"\n",
    "prefix rdf: <http://www.w3.org/1999/02/22-rdf-syntax-ns#>\n",
    "prefix rdfs: <http://www.w3.org/2000/01/rdf-schema#>\n",
    "prefix mixs: <https://gensc.org/mixs-class#>\n",
    "\n",
    "select     \n",
    "    ?iri ?version_4 ?version_5\n",
    "where {\n",
    "    ?iri rdfs:subClassOf mixs:mixs_term ;\n",
    "         mixs:mixs_version ?version_4, ?version_5 .\n",
    "    values (?version_4 ?version_5) { (4 5) }\n",
    "}\n",
    "limit 5\n",
    "\"\"\""
   ]
  },
  {
   "cell_type": "code",
   "execution_count": 22,
   "metadata": {},
   "outputs": [],
   "source": [
    "results = mixs_package_class_graph.query(query)"
   ]
  },
  {
   "cell_type": "code",
   "execution_count": 23,
   "metadata": {},
   "outputs": [
    {
     "name": "stdout",
     "output_type": "stream",
     "text": [
      "https://gensc.org/mixs-class#part_org_nitro                   4  5\n",
      "https://gensc.org/mixs-class#diether_lipids                   4  5\n",
      "https://gensc.org/mixs-class#lib_size                         4  5\n",
      "https://gensc.org/mixs-class#chlorophyll                      4  5\n",
      "https://gensc.org/mixs-class#gynecologic_disord               4  5\n"
     ]
    }
   ],
   "source": [
    "for r in results:\n",
    "    print(f\"\"\"{r.iri:60}  {r.version_4}  {r.version_5}\"\"\")"
   ]
  },
  {
   "cell_type": "markdown",
   "metadata": {},
   "source": [
    "### Find total number of terms that are in both versions 4 & 5"
   ]
  },
  {
   "cell_type": "code",
   "execution_count": 24,
   "metadata": {},
   "outputs": [],
   "source": [
    "query = \"\"\"\n",
    "prefix rdf: <http://www.w3.org/1999/02/22-rdf-syntax-ns#>\n",
    "prefix rdfs: <http://www.w3.org/2000/01/rdf-schema#>\n",
    "prefix mixs: <https://gensc.org/mixs-class#>\n",
    "\n",
    "select     \n",
    "    (count (?iri) as ?num) \n",
    "where {\n",
    "    ?iri rdfs:subClassOf mixs:mixs_term ;\n",
    "         mixs:mixs_version ?version_4, ?version_5 .\n",
    "    values (?version_4 ?version_5) { (4 5) }\n",
    "}\n",
    "\"\"\""
   ]
  },
  {
   "cell_type": "code",
   "execution_count": 25,
   "metadata": {},
   "outputs": [],
   "source": [
    "results = mixs_package_class_graph.query(query)"
   ]
  },
  {
   "cell_type": "code",
   "execution_count": 26,
   "metadata": {},
   "outputs": [
    {
     "name": "stdout",
     "output_type": "stream",
     "text": [
      "number of mixs terms in version 4 & 5:  329\n"
     ]
    }
   ],
   "source": [
    "for r in results:\n",
    "    print(f\"\"\"number of mixs terms in version 4 & 5:  {r.num}\"\"\")"
   ]
  },
  {
   "cell_type": "code",
   "execution_count": null,
   "metadata": {},
   "outputs": [],
   "source": []
  }
 ],
 "metadata": {
  "kernelspec": {
   "display_name": "Python 3",
   "language": "python",
   "name": "python3"
  },
  "language_info": {
   "codemirror_mode": {
    "name": "ipython",
    "version": 3
   },
   "file_extension": ".py",
   "mimetype": "text/x-python",
   "name": "python",
   "nbconvert_exporter": "python",
   "pygments_lexer": "ipython3",
   "version": "3.7.4"
  }
 },
 "nbformat": 4,
 "nbformat_minor": 4
}
